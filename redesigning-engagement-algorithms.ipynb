{
 "cells": [
  {
   "cell_type": "markdown",
   "metadata": {},
   "source": [
    "**Redesigning An Engagement Algorithm to Make It Note Hateful**"
   ]
  },
  {
   "cell_type": "code",
   "execution_count": 3,
   "metadata": {},
   "outputs": [],
   "source": [
    "# Example Content\n",
    "example_content = [\n",
    "    {\n",
    "        'title': 'Example 1',\n",
    "        'nuanced_language': True,\n",
    "        'perspective_balance': 0.8,\n",
    "        'perspective_range': 0.9,\n",
    "        'conflict_potential': 0.1,\n",
    "        'inflammatory_language': 0.1,\n",
    "        'polarization_index': 0.2,\n",
    "        'user_rating': 0.9\n",
    "    },\n",
    "    {\n",
    "        'title': 'Example 2',\n",
    "        'nuanced_language': False,\n",
    "        'perspective_balance': 0.2,\n",
    "        'perspective_range': 0.3,\n",
    "        'conflict_potential': 0.8,\n",
    "        'inflammatory_language': 0.7,\n",
    "        'polarization_index': 0.9,\n",
    "        'user_rating': 0.2\n",
    "    },\n",
    "    {\n",
    "        'title': 'Example 3',\n",
    "        'nuanced_language': True,\n",
    "        'perspective_balance': 0.7,\n",
    "        'perspective_range': 0.8,\n",
    "        'conflict_potential': 0.2,\n",
    "        'inflammatory_language': 0.2,\n",
    "        'polarization_index': 0.3,\n",
    "        'user_rating': 0.8\n",
    "    }\n",
    "]"
   ]
  },
  {
   "cell_type": "markdown",
   "metadata": {},
   "source": [
    "*First we weigh the metrics to determine how important it is*"
   ]
  },
  {
   "cell_type": "code",
   "execution_count": 4,
   "metadata": {},
   "outputs": [],
   "source": [
    "metrics = {\n",
    "    'constructive_dialogue': 0.25, \n",
    "    'diversity_exposure': 0.1,        \n",
    "    'community_health': 0.25,\n",
    "    'user_reported_quality': 0.4\n",
    "}"
   ]
  },
  {
   "cell_type": "markdown",
   "metadata": {},
   "source": [
    "*These next few blocks are functions that measure the scores for each of the metrics I have above*"
   ]
  },
  {
   "cell_type": "code",
   "execution_count": 8,
   "metadata": {},
   "outputs": [],
   "source": [
    "def measure_constructive_dialogue(content):\n",
    "    dialogue_indicators = [\n",
    "        content.get('nuanced_language', False),\n",
    "        content.get('perspective_balance', 0) > 0.5,\n",
    "        content.get('conflict_potential', 0) < 0.3\n",
    "    ]\n",
    "    return sum(dialogue_indicators) / len(dialogue_indicators)"
   ]
  },
  {
   "cell_type": "code",
   "execution_count": 9,
   "metadata": {},
   "outputs": [],
   "source": [
    "def measure_diversity_exposure(content):\n",
    "    return content.get('perspective_range', 0)"
   ]
  },
  {
   "cell_type": "code",
   "execution_count": 12,
   "metadata": {},
   "outputs": [],
   "source": [
    "def measure_community_health(content):\n",
    "    negative_impact_factors = [\n",
    "        content.get('inflammatory_language', 0),\n",
    "        content.get('polarization_index', 0)\n",
    "    ]\n",
    "    return 1 - max(negative_impact_factors)"
   ]
  },
  {
   "cell_type": "code",
   "execution_count": 11,
   "metadata": {},
   "outputs": [],
   "source": [
    "def measure_user_reported_quality(content):\n",
    "    return content.get('user_rating', 0.5)"
   ]
  },
  {
   "cell_type": "markdown",
   "metadata": {},
   "source": [
    "*Now we calculate the overall score for a post!*"
   ]
  },
  {
   "cell_type": "code",
   "execution_count": 13,
   "metadata": {},
   "outputs": [],
   "source": [
    "def calculate_content_score(content, metrics):\n",
    "    scores = {\n",
    "        'constructive_interactions': measure_constructive_dialogue(content),\n",
    "        'diversity_exposure': measure_diversity_exposure(content),\n",
    "        'community_health': measure_community_health(content),\n",
    "        'user_reported_quality': measure_user_reported_quality(content)\n",
    "    }\n",
    "    \n",
    "    total_score = sum(\n",
    "        scores[metric] * weight \n",
    "        for metric, weight in metrics.items()\n",
    "    )\n",
    "    \n",
    "    return max(0, min(1, total_score))"
   ]
  },
  {
   "cell_type": "markdown",
   "metadata": {},
   "source": [
    "*This is where the 'ethical algorithm' comes into play by ranking all the content*"
   ]
  },
  {
   "cell_type": "code",
   "execution_count": 14,
   "metadata": {},
   "outputs": [
    {
     "name": "stdout",
     "output_type": "stream",
     "text": [
      "\n",
      "# Recommended Content Ranking:\n",
      "- Example 1 (Ethical Engagement Score: 0.90)\n",
      "- Example 3 (Ethical Engagement Score: 0.83)\n",
      "- Example 2 (Ethical Engagement Score: 0.14)\n"
     ]
    }
   ],
   "source": [
    "scored_content = [\n",
    "    (content, calculate_content_score(content, metrics)) \n",
    "    for content in example_content\n",
    "]\n",
    "\n",
    "recommended_content = [\n",
    "    content for content, score in \n",
    "    sorted(scored_content, key=lambda x: x[1], reverse=True)\n",
    "]\n",
    "\n",
    "print(\"\\n# Recommended Content Ranking:\")\n",
    "for content in recommended_content:\n",
    "    score = calculate_content_score(content, metrics)\n",
    "    print(f\"- {content['title']} (Ethical Engagement Score: {score:.2f})\")"
   ]
  },
  {
   "cell_type": "markdown",
   "metadata": {},
   "source": [
    "*And here's a fun little visualization inspired by my data science course*"
   ]
  },
  {
   "cell_type": "code",
   "execution_count": 16,
   "metadata": {},
   "outputs": [
    {
     "data": {
      "image/png": "[encoded data removed]",
      "text/plain": [
       "<Figure size 1000x500 with 1 Axes>"
      ]
     },
     "metadata": {},
     "output_type": "display_data"
    }
   ],
   "source": [
    "import matplotlib.pyplot as plt\n",
    "\n",
    "def visualize_content_scores(content_pool, metrics):\n",
    "    titles = [content['title'] for content in content_pool]\n",
    "    scores = [calculate_content_score(content, metrics) for content in content_pool]\n",
    "    \n",
    "    plt.figure(figsize=(10, 5))\n",
    "    plt.bar(titles, scores)\n",
    "    plt.title('Content Ethical Engagement Scores')\n",
    "    plt.xlabel('Content Title')\n",
    "    plt.ylabel('Ethical Engagement Score')\n",
    "    plt.xticks(rotation=45, ha='right')\n",
    "    plt.tight_layout()\n",
    "    plt.show()\n",
    "\n",
    "visualize_content_scores(example_content, metrics)"
   ]
  }
 ],
 "metadata": {
  "kernelspec": {
   "display_name": "Python 3",
   "language": "python",
   "name": "python3"
  },
  "language_info": {
   "codemirror_mode": {
    "name": "ipython",
    "version": 3
   },
   "file_extension": ".py",
   "mimetype": "text/x-python",
   "name": "python",
   "nbconvert_exporter": "python",
   "pygments_lexer": "ipython3",
   "version": "3.11.2"
  }
 },
 "nbformat": 4,
 "nbformat_minor": 2
}
